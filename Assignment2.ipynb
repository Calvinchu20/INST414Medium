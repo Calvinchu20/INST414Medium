{
 "cells": [
  {
   "cell_type": "code",
   "execution_count": 5,
   "metadata": {},
   "outputs": [],
   "source": [
    "import pandas as pd  \n",
    "import networkx as nx\n",
    "import requests\n",
    "import json\n"
   ]
  },
  {
   "cell_type": "code",
   "execution_count": 6,
   "metadata": {},
   "outputs": [],
   "source": [
    "graph = nx.Graph()"
   ]
  },
  {
   "cell_type": "code",
   "execution_count": 7,
   "metadata": {},
   "outputs": [],
   "source": [
    "page = 1\n",
    "max_p = 5\n",
    "\n",
    "for section in range(max_p):\n",
    "    response = requests.get('https://api.fbi.gov/wanted/v1/list', params={\n",
    "        'page': page\n",
    "    })\n",
    "    data = json.loads(response.content)\n",
    "    for x in data['items']:\n",
    "       graph.add_node(x['title'])\n"
   ]
  },
  {
   "cell_type": "code",
   "execution_count": 14,
   "metadata": {},
   "outputs": [
    {
     "data": {
      "text/plain": [
       "EdgeView([('TIMOTHY DUMAS, SR. AND MASTER SERGEANT WILLIAM LAVIGNE III', 'BRANDON LEE WAGONER'), ('TIMOTHY DUMAS, SR. AND MASTER SERGEANT WILLIAM LAVIGNE III', 'MADALINA COJOCARI'), ('RADDULAN SAHIRON', 'KEVIN ROBERT HARRIS II'), ('ALEKSEY IPPOLITOV', 'ALEKSEY IPPOLITOV'), ('BRANDON LEE WAGONER', 'BRANDON LEE WAGONER'), ('BRANDON LEE WAGONER', 'MADALINA COJOCARI'), ('TASJUNIQUE GRAHAM AND BAILEY SIMON', 'TASJUNIQUE GRAHAM AND BAILEY SIMON'), ('KEVIN ROBERT HARRIS II', 'KEVIN ROBERT HARRIS II'), ('MADALINA COJOCARI', 'MADALINA COJOCARI'), ('AHMAD ABOUSAMRA', 'AHMAD ABOUSAMRA'), ('SAMUEL LEE ROSE', 'SAMUEL LEE ROSE'), ('MICHELIEGH IRON CLOUD', 'MICHELIEGH IRON CLOUD'), ('DELON BUSHROD, JR.', 'DELON BUSHROD, JR.'), ('CARLOTTA MARIA SANCHEZ', 'CARLOTTA MARIA SANCHEZ'), ('CARLOTTA MARIA SANCHEZ', 'ELSIE ELDORA LUSCIER'), ('CARLOTTA MARIA SANCHEZ', 'JEFFREY JOSEPH BRANHAM'), ('ELSIE ELDORA LUSCIER', 'ELSIE ELDORA LUSCIER'), ('ELSIE ELDORA LUSCIER', 'JEFFREY JOSEPH BRANHAM'), ('JEFFREY JOSEPH BRANHAM', 'JEFFREY JOSEPH BRANHAM')])"
      ]
     },
     "execution_count": 14,
     "metadata": {},
     "output_type": "execute_result"
    }
   ],
   "source": [
    "page = 1\n",
    "max_p = 5\n",
    "\n",
    "\n",
    "for section in range(max_p):\n",
    "    response = requests.get('https://api.fbi.gov/wanted/v1/list', params={\n",
    "        'page': page\n",
    "    })\n",
    "    data = json.loads(response.content)\n",
    "    i = 0\n",
    "    for x in data['items']:\n",
    "        field_x = list()\n",
    "        if x['field_offices']!= None:\n",
    "                field_x.append(x['field_offices'])\n",
    "                field_x = sum(field_x,[]) \n",
    "        else:\n",
    "                continue\n",
    "        for y in data['items'][i+1:]:\n",
    "            field_y = list()\n",
    "            if y['field_offices']!= None:\n",
    "                field_y.append(y['field_offices'])\n",
    "                field_y = sum(field_y,[]) \n",
    "            else:\n",
    "                continue\n",
    "            for x1 in field_x:\n",
    "                for y1 in field_y:\n",
    "                    if x1 == y1:\n",
    "                        graph.add_edge(x['title'],y['title'])\n",
    "                        edge_labels = dict([((n1, n2), y1)\n",
    "                    for n1, n2 in graph.edges])\n",
    "        i+=1       \n",
    "       \n",
    "\n",
    "graph.edges\n"
   ]
  },
  {
   "cell_type": "code",
   "execution_count": 9,
   "metadata": {},
   "outputs": [
    {
     "data": {
      "text/plain": [
       "{'TIMOTHY DUMAS, SR. AND MASTER SERGEANT WILLIAM LAVIGNE III': 0.10526315789473684,\n",
       " 'DEMARCO JOHNSON': 0.0,\n",
       " 'RADDULAN SAHIRON': 0.05263157894736842,\n",
       " 'ROBERT WILLIAM FISHER': 0.0,\n",
       " 'DAWN MARIE MOZINO - BRYN MAWR, PENNSYLVANIA': 0.0,\n",
       " 'JANE DOE - LINN COUNTY, OREGON': 0.0,\n",
       " 'ALEKSEY IPPOLITOV': 0.10526315789473684,\n",
       " 'BRANDON LEE WAGONER': 0.21052631578947367,\n",
       " 'TASJUNIQUE GRAHAM AND BAILEY SIMON': 0.10526315789473684,\n",
       " 'KEVIN ROBERT HARRIS II': 0.15789473684210525,\n",
       " 'MADALINA COJOCARI': 0.21052631578947367,\n",
       " 'AHMAD ABOUSAMRA': 0.10526315789473684,\n",
       " 'DALE EUGENE KELLEY - SACRAMENTO, CALIFORNIA': 0.0,\n",
       " 'SAMUEL LEE ROSE': 0.10526315789473684,\n",
       " 'MICHELIEGH IRON CLOUD': 0.10526315789473684,\n",
       " 'DELON BUSHROD, JR.': 0.10526315789473684,\n",
       " 'CARLOTTA MARIA SANCHEZ': 0.21052631578947367,\n",
       " 'ELSIE ELDORA LUSCIER': 0.21052631578947367,\n",
       " 'SEEKING INFORMATION': 0.0,\n",
       " 'JEFFREY JOSEPH BRANHAM': 0.21052631578947367}"
      ]
     },
     "execution_count": 9,
     "metadata": {},
     "output_type": "execute_result"
    }
   ],
   "source": [
    "value = nx.degree_centrality(graph)\n",
    "value"
   ]
  },
  {
   "cell_type": "code",
   "execution_count": null,
   "metadata": {},
   "outputs": [
    {
     "data": {
      "text/plain": [
       "{'TIMOTHY DUMAS, SR. AND MASTER SERGEANT WILLIAM LAVIGNE III': 0.45970084267479827,\n",
       " 'DEMARCO JOHNSON': 3.9800182162395034e-26,\n",
       " 'RADDULAN SAHIRON': 7.084350500230112e-08,\n",
       " 'CHRISTOPHER JOHN WORRELL': 3.9800182162395034e-26,\n",
       " 'ROBERT WILLIAM FISHER': 7.001722092025005e-13,\n",
       " 'DAWN MARIE MOZINO - BRYN MAWR, PENNSYLVANIA': 3.9800182162395034e-26,\n",
       " 'JANE DOE - LINN COUNTY, OREGON': 3.9800182162395034e-26,\n",
       " 'ALEKSEY IPPOLITOV': 7.001722092025005e-13,\n",
       " 'BRANDON LEE WAGONER': 0.6279630292348879,\n",
       " 'TASJUNIQUE GRAHAM AND BAILEY SIMON': 7.001722092025005e-13,\n",
       " 'KEVIN ROBERT HARRIS II': 1.1462719897589644e-07,\n",
       " 'MADALINA COJOCARI': 0.6279630292348879,\n",
       " 'AHMAD ABOUSAMRA': 7.001722092025005e-13,\n",
       " 'DALE EUGENE KELLEY - SACRAMENTO, CALIFORNIA': 3.9800182162395034e-26,\n",
       " 'SAMUEL LEE ROSE': 7.001722092025005e-13,\n",
       " 'MICHELIEGH IRON CLOUD': 7.001722092025005e-13,\n",
       " 'DELON BUSHROD, JR.': 7.001722092025005e-13,\n",
       " 'CARLOTTA MARIA SANCHEZ': 3.919406129513384e-05,\n",
       " 'ELSIE ELDORA LUSCIER': 3.919406129513384e-05,\n",
       " 'SEEKING INFORMATION': 3.9800182162395034e-26}"
      ]
     },
     "execution_count": 42,
     "metadata": {},
     "output_type": "execute_result"
    }
   ],
   "source": [
    "eigen = nx.eigenvector_centrality(graph)\n",
    "eigen"
   ]
  },
  {
   "cell_type": "code",
   "execution_count": null,
   "metadata": {},
   "outputs": [
    {
     "data": {
      "text/plain": [
       "{'TIMOTHY DUMAS, SR. AND MASTER SERGEANT WILLIAM LAVIGNE III': 0.0,\n",
       " 'DEMARCO JOHNSON': 0.0,\n",
       " 'RADDULAN SAHIRON': 0.0,\n",
       " 'CHRISTOPHER JOHN WORRELL': 0.0,\n",
       " 'ROBERT WILLIAM FISHER': 0.0,\n",
       " 'DAWN MARIE MOZINO - BRYN MAWR, PENNSYLVANIA': 0.0,\n",
       " 'JANE DOE - LINN COUNTY, OREGON': 0.0,\n",
       " 'ALEKSEY IPPOLITOV': 0.0,\n",
       " 'BRANDON LEE WAGONER': 0.0,\n",
       " 'TASJUNIQUE GRAHAM AND BAILEY SIMON': 0.0,\n",
       " 'KEVIN ROBERT HARRIS II': 0.0,\n",
       " 'MADALINA COJOCARI': 0.0,\n",
       " 'AHMAD ABOUSAMRA': 0.0,\n",
       " 'DALE EUGENE KELLEY - SACRAMENTO, CALIFORNIA': 0.0,\n",
       " 'SAMUEL LEE ROSE': 0.0,\n",
       " 'MICHELIEGH IRON CLOUD': 0.0,\n",
       " 'DELON BUSHROD, JR.': 0.0,\n",
       " 'CARLOTTA MARIA SANCHEZ': 0.0,\n",
       " 'ELSIE ELDORA LUSCIER': 0.0,\n",
       " 'SEEKING INFORMATION': 0.0}"
      ]
     },
     "execution_count": 43,
     "metadata": {},
     "output_type": "execute_result"
    }
   ],
   "source": [
    "betw_c = nx.betweenness_centrality(graph, k =10)\n",
    "betw_c"
   ]
  },
  {
   "cell_type": "code",
   "execution_count": 12,
   "metadata": {},
   "outputs": [],
   "source": [
    "nx.write_graphml(graph, \"Fbi_cases.graphml\")"
   ]
  }
 ],
 "metadata": {
  "kernelspec": {
   "display_name": "Python 3",
   "language": "python",
   "name": "python3"
  },
  "language_info": {
   "codemirror_mode": {
    "name": "ipython",
    "version": 3
   },
   "file_extension": ".py",
   "mimetype": "text/x-python",
   "name": "python",
   "nbconvert_exporter": "python",
   "pygments_lexer": "ipython3",
   "version": "3.11.2"
  },
  "orig_nbformat": 4,
  "vscode": {
   "interpreter": {
    "hash": "aee8b7b246df8f9039afb4144a1f6fd8d2ca17a180786b69acc140d282b71a49"
   }
  }
 },
 "nbformat": 4,
 "nbformat_minor": 2
}
